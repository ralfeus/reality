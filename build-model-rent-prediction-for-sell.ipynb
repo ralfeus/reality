{
 "cells": [
  {
   "cell_type": "code",
   "execution_count": 89,
   "metadata": {},
   "outputs": [
    {
     "name": "stdout",
     "output_type": "stream",
     "text": [
      "The autoreload extension is already loaded. To reload it, use:\n",
      "  %reload_ext autoreload\n"
     ]
    }
   ],
   "source": [
    "%load_ext autoreload\n",
    "%autoreload 2\n",
    "from pymongo import MongoClient\n",
    "import pandas as pd\n",
    "from datetime import datetime\n",
    "from datetime import time\n",
    "\n",
    "client = MongoClient()\n",
    "db = client.reality\n",
    "coll = db['sreality_all']"
   ]
  },
  {
   "cell_type": "markdown",
   "metadata": {},
   "source": [
    "# Prepare dataset"
   ]
  },
  {
   "cell_type": "code",
   "execution_count": 90,
   "metadata": {},
   "outputs": [],
   "source": [
    "dataset = coll.aggregate([\n",
    "    {'$match': {\n",
    "        'seo.category_main_cb': 1, # Apartments\n",
    "        'seo.category_type_cb': 2, # Rent\n",
    "        'seo.locality': {'$regex': '^praha'},\n",
    "        'timeAdded': {'$gt': datetime.combine(datetime.now().date(), time(0, 0, 0))}\n",
    "    }},\n",
    "    {'$group': {\n",
    "        '_id': \"$hash_id\",\n",
    "        'labelsAll': {'$first': \"$labelsAll\"},\n",
    "        'price': {'$first': \"$price\"},\n",
    "        'name': {'$first': \"$name\"},\n",
    "        'locality': {'$first': \"$seo.locality\"},\n",
    "        'totalFloorArea': {'$first': '$totalFloorArea'},\n",
    "        'public_transport_distance': {'$last': \"$closestPublicTransportStop.distance\"},\n",
    "        'layout': {'$first': '$seo.category_sub_cb'}\n",
    "    }}\n",
    " ])\n",
    "df_original = pd.DataFrame(dataset)"
   ]
  },
  {
   "cell_type": "code",
   "execution_count": 94,
   "metadata": {},
   "outputs": [],
   "source": [
    "from reality_prepare_rent_dataset import prepareDataset\n",
    "df = prepareDataset(df_original.copy())"
   ]
  },
  {
   "cell_type": "markdown",
   "metadata": {},
   "source": [
    "# Train model"
   ]
  },
  {
   "cell_type": "code",
   "execution_count": 95,
   "metadata": {},
   "outputs": [],
   "source": [
    "from matplotlib import pyplot as plt\n",
    "from sklearn.decomposition import PCA\n",
    "import sklearn.ensemble as e\n",
    "import sklearn.linear_model as r \n",
    "from sklearn.svm import LinearSVR\n",
    "from sklearn.model_selection import train_test_split\n",
    "from sklearn.model_selection import learning_curve\n",
    "from sklearn.pipeline import make_pipeline\n",
    "from sklearn.preprocessing import PolynomialFeatures\n",
    "from sklearn.preprocessing import StandardScaler\n",
    "import numpy as np\n",
    "import joblib"
   ]
  },
  {
   "cell_type": "code",
   "execution_count": 96,
   "metadata": {},
   "outputs": [
    {
     "name": "stdout",
     "output_type": "stream",
     "text": [
      "Estimating features number...done! Taken 2033 features\n",
      "Building model...done!\n",
      "Saving model...done!\n",
      "Building learning curve...done!\n"
     ]
    },
    {
     "data": {
      "text/plain": [
       "<matplotlib.legend.Legend at 0x7fa3b975d2e8>"
      ]
     },
     "execution_count": 96,
     "metadata": {},
     "output_type": "execute_result"
    },
    {
     "data": {
      "image/png": "[encoded data removed]",
      "text/plain": [
       "<Figure size 432x288 with 1 Axes>"
      ]
     },
     "metadata": {
      "needs_background": "light"
     },
     "output_type": "display_data"
    }
   ],
   "source": [
    "print(\"Estimating features number...\", end='')\n",
    "df_90 = df[df['public_transport_distance'] > 10].head(int(len(df) * 0.98))\n",
    "X_train = df_90.drop(columns = \"price_per_sq_meter\")\n",
    "y_train = df_90.price_per_sq_meter\n",
    "pca = PCA()\n",
    "scaler = StandardScaler()\n",
    "m = len(X_train)\n",
    "X_trans = scaler.fit_transform(X_train)\n",
    "X_trans = pca.fit_transform(X_trans)\n",
    "X_red = np.ndarray((m, 0))\n",
    "total_variance = 0\n",
    "index = 0\n",
    "while total_variance < 0.99:\n",
    "    X_red = np.append(X_red, X_trans[:, index].reshape(m, 1), axis = 1) \n",
    "    total_variance += pca.explained_variance_ratio_[index]\n",
    "    index += 1\n",
    "print(\"done! Taken {} features\".format(index))\n",
    "\n",
    "print(\"Building model...\", end='')\n",
    "model = make_pipeline(PolynomialFeatures(1), r.RANSACRegressor(base_estimator = r.Ridge()))\n",
    "model.fit(X_red, y_train)\n",
    "model.features = X_train.columns\n",
    "model.features_num = index\n",
    "print(\"done!\")\n",
    "\n",
    "print(\"Saving model...\", end='')\n",
    "joblib.dump(scaler, 'rent-model.scaler')\n",
    "joblib.dump(pca, 'rent-model.pca')\n",
    "joblib.dump(model, 'rent-model.pipeline')\n",
    "print(\"done!\")"
   ]
  },
  {
   "cell_type": "code",
   "execution_count": null,
   "metadata": {},
   "outputs": [],
   "source": [
    "# print(\"Building learning curve...\", end='')\n",
    "# training_sizes, training_scores, validation_scores = learning_curve(\n",
    "#     estimator = model,\n",
    "#     X = X_red,\n",
    "#     y = y_train,\n",
    "#     train_sizes = np.linspace(2000, m * 0.8, dtype = int), \n",
    "#     cv = 5, \n",
    "#     n_jobs = -1\n",
    "# )\n",
    "# print(\"done!\")\n",
    "\n",
    "# line1, line2 = plt.plot(\n",
    "#     training_sizes, training_scores.mean(axis = 1), 'g', \n",
    "#     training_sizes, validation_scores.mean(axis = 1), 'r')\n",
    "# plt.legend((line1, line2), ('Training', 'Cross-validation'))"
   ]
  },
  {
   "cell_type": "code",
   "execution_count": null,
   "metadata": {},
   "outputs": [],
   "source": []
  }
 ],
 "metadata": {
  "kernelspec": {
   "display_name": "Python 3",
   "language": "python",
   "name": "python3"
  },
  "language_info": {
   "codemirror_mode": {
    "name": "ipython",
    "version": 3
   },
   "file_extension": ".py",
   "mimetype": "text/x-python",
   "name": "python",
   "nbconvert_exporter": "python",
   "pygments_lexer": "ipython3",
   "version": "3.6.9"
  }
 },
 "nbformat": 4,
 "nbformat_minor": 4
}
