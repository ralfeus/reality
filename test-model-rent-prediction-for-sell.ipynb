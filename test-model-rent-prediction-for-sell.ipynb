{
 "cells": [
  {
   "cell_type": "code",
   "execution_count": 1,
   "metadata": {},
   "outputs": [],
   "source": [
    "%load_ext autoreload\n",
    "%autoreload 2\n",
    "from pymongo import MongoClient\n",
    "import pandas as pd\n",
    "from datetime import datetime\n",
    "from datetime import time\n",
    "\n",
    "client = MongoClient()\n",
    "db = client.reality\n",
    "coll = db['sreality_all']"
   ]
  },
  {
   "cell_type": "markdown",
   "metadata": {},
   "source": [
    "# Prepare dataset"
   ]
  },
  {
   "cell_type": "code",
   "execution_count": 20,
   "metadata": {},
   "outputs": [],
   "source": [
    "dataset = coll.aggregate([\n",
    "    {'$match': {\n",
    "        'seo.category_main_cb': 1, # Apartments\n",
    "        'seo.category_type_cb': 1, # Sell\n",
    "        'seo.locality': {'$regex': '^praha'},\n",
    "        'timeAdded': {'$gt': datetime.combine(datetime.now().date(), time(0, 0, 0))}\n",
    "    }},\n",
    "    {'$group': {\n",
    "        '_id': \"$hash_id\",\n",
    "        'labelsAll': {'$first': \"$labelsAll\"},\n",
    "        'price': {'$first': \"$price\"},\n",
    "        'name': {'$first': \"$name\"},\n",
    "        'locality': {'$first': \"$seo.locality\"},\n",
    "        'totalFloorArea': {'$first': '$totalFloorArea'},\n",
    "        'public_transport_distance': {'$last': \"$closestPublicTransportStop.distance\"},\n",
    "        'layout': {'$first': '$seo.category_sub_cb'}\n",
    "    }}\n",
    " ])\n",
    "df_original = pd.DataFrame(dataset)"
   ]
  },
  {
   "cell_type": "code",
   "execution_count": 68,
   "metadata": {},
   "outputs": [],
   "source": [
    "import joblib\n",
    "from reality_prepare_rent_dataset import prepareDataset\n",
    "from sklearn.preprocessing import StandardScaler\n",
    "from sklearn.decomposition import PCA\n",
    "model = joblib.load('rent-model.pipeline')"
   ]
  },
  {
   "cell_type": "code",
   "execution_count": 69,
   "metadata": {},
   "outputs": [],
   "source": [
    "df = prepareDataset(df_original.copy())\n",
    "df = df.reindex(columns=model.features, fill_value=0)"
   ]
  },
  {
   "cell_type": "code",
   "execution_count": 70,
   "metadata": {},
   "outputs": [],
   "source": [
    "X_pred = df\n",
    "X_trans = joblib.load('rent-model.scaler').transform(X_pred)\n",
    "X_trans = joblib.load('rent-model.pca').transform(X_trans)\n",
    "\n",
    "X_red = X_trans[:, :model.features_num]"
   ]
  },
  {
   "cell_type": "code",
   "execution_count": null,
   "metadata": {},
   "outputs": [],
   "source": [
    "y_pred = model.predict(X_red)"
   ]
  },
  {
   "cell_type": "markdown",
   "metadata": {},
   "source": [
    "# Testing"
   ]
  },
  {
   "cell_type": "code",
   "execution_count": 73,
   "metadata": {},
   "outputs": [],
   "source": [
    "df_original['predicted_rent_price'] = y_pred * df_original['totalFloorArea'].astype('int')"
   ]
  },
  {
   "cell_type": "code",
   "execution_count": 86,
   "metadata": {},
   "outputs": [
    {
     "name": "stderr",
     "output_type": "stream",
     "text": [
      "/home/ralfeus/.local/lib/python3.6/site-packages/ipykernel_launcher.py:1: UserWarning: Boolean Series key will be reindexed to match DataFrame index.\n",
      "  \"\"\"Entry point for launching an IPython kernel.\n"
     ]
    },
    {
     "data": {
      "text/html": [
       "<div>\n",
       "<style scoped>\n",
       "    .dataframe tbody tr th:only-of-type {\n",
       "        vertical-align: middle;\n",
       "    }\n",
       "\n",
       "    .dataframe tbody tr th {\n",
       "        vertical-align: top;\n",
       "    }\n",
       "\n",
       "    .dataframe thead th {\n",
       "        text-align: right;\n",
       "    }\n",
       "</style>\n",
       "<table border=\"1\" class=\"dataframe\">\n",
       "  <thead>\n",
       "    <tr style=\"text-align: right;\">\n",
       "      <th></th>\n",
       "      <th>name</th>\n",
       "      <th>locality</th>\n",
       "      <th>totalFloorArea</th>\n",
       "      <th>price</th>\n",
       "      <th>predicted_rent_price</th>\n",
       "    </tr>\n",
       "  </thead>\n",
       "  <tbody>\n",
       "    <tr>\n",
       "      <th>529</th>\n",
       "      <td>Prodej bytu 1+kk 15 m²</td>\n",
       "      <td>praha-vinohrady-spanelska</td>\n",
       "      <td>15</td>\n",
       "      <td>2970000</td>\n",
       "      <td>4987.595616</td>\n",
       "    </tr>\n",
       "    <tr>\n",
       "      <th>528</th>\n",
       "      <td>Prodej bytu 1+kk 15 m²</td>\n",
       "      <td>praha-vinohrady-spanelska</td>\n",
       "      <td>15</td>\n",
       "      <td>2970000</td>\n",
       "      <td>4933.776996</td>\n",
       "    </tr>\n",
       "    <tr>\n",
       "      <th>574</th>\n",
       "      <td>Prodej bytu 1+kk 15 m²</td>\n",
       "      <td>praha-vinohrady-perucka</td>\n",
       "      <td>15</td>\n",
       "      <td>2280000</td>\n",
       "      <td>5599.923866</td>\n",
       "    </tr>\n",
       "    <tr>\n",
       "      <th>4395</th>\n",
       "      <td>Prodej bytu 1+kk 15 m²</td>\n",
       "      <td>praha-vinohrady-spanelska</td>\n",
       "      <td>15</td>\n",
       "      <td>2970000</td>\n",
       "      <td>5003.673029</td>\n",
       "    </tr>\n",
       "    <tr>\n",
       "      <th>3915</th>\n",
       "      <td>Prodej bytu 1+kk 16 m²</td>\n",
       "      <td>praha-vinohrady-spanelska</td>\n",
       "      <td>16</td>\n",
       "      <td>2970000</td>\n",
       "      <td>6938.546067</td>\n",
       "    </tr>\n",
       "    <tr>\n",
       "      <th>...</th>\n",
       "      <td>...</td>\n",
       "      <td>...</td>\n",
       "      <td>...</td>\n",
       "      <td>...</td>\n",
       "      <td>...</td>\n",
       "    </tr>\n",
       "    <tr>\n",
       "      <th>646</th>\n",
       "      <td>Prodej bytu 3+kk 96 m²</td>\n",
       "      <td>praha-vinohrady-belgicka</td>\n",
       "      <td>96</td>\n",
       "      <td>14510000</td>\n",
       "      <td>27864.193611</td>\n",
       "    </tr>\n",
       "    <tr>\n",
       "      <th>517</th>\n",
       "      <td>Prodej bytu 3+kk 97 m²</td>\n",
       "      <td>praha-vinohrady-velehradska</td>\n",
       "      <td>97</td>\n",
       "      <td>13990000</td>\n",
       "      <td>32253.118316</td>\n",
       "    </tr>\n",
       "    <tr>\n",
       "      <th>552</th>\n",
       "      <td>Prodej bytu 3+kk 98 m²</td>\n",
       "      <td>praha-vinohrady-safarikova</td>\n",
       "      <td>98</td>\n",
       "      <td>12950000</td>\n",
       "      <td>32585.624691</td>\n",
       "    </tr>\n",
       "    <tr>\n",
       "      <th>566</th>\n",
       "      <td>Prodej bytu 3+1 98 m²</td>\n",
       "      <td>praha-vinohrady-polska</td>\n",
       "      <td>98</td>\n",
       "      <td>14490000</td>\n",
       "      <td>25412.160349</td>\n",
       "    </tr>\n",
       "    <tr>\n",
       "      <th>630</th>\n",
       "      <td>Prodej bytu 3+kk 99 m²</td>\n",
       "      <td>praha-vinohrady-italska</td>\n",
       "      <td>99</td>\n",
       "      <td>1</td>\n",
       "      <td>27442.255738</td>\n",
       "    </tr>\n",
       "  </tbody>\n",
       "</table>\n",
       "<p>177 rows × 5 columns</p>\n",
       "</div>"
      ],
      "text/plain": [
       "                        name                     locality  totalFloorArea  \\\n",
       "529   Prodej bytu 1+kk 15 m²    praha-vinohrady-spanelska              15   \n",
       "528   Prodej bytu 1+kk 15 m²    praha-vinohrady-spanelska              15   \n",
       "574   Prodej bytu 1+kk 15 m²      praha-vinohrady-perucka              15   \n",
       "4395  Prodej bytu 1+kk 15 m²    praha-vinohrady-spanelska              15   \n",
       "3915  Prodej bytu 1+kk 16 m²    praha-vinohrady-spanelska              16   \n",
       "...                      ...                          ...             ...   \n",
       "646   Prodej bytu 3+kk 96 m²     praha-vinohrady-belgicka              96   \n",
       "517   Prodej bytu 3+kk 97 m²  praha-vinohrady-velehradska              97   \n",
       "552   Prodej bytu 3+kk 98 m²   praha-vinohrady-safarikova              98   \n",
       "566    Prodej bytu 3+1 98 m²       praha-vinohrady-polska              98   \n",
       "630   Prodej bytu 3+kk 99 m²      praha-vinohrady-italska              99   \n",
       "\n",
       "         price  predicted_rent_price  \n",
       "529    2970000           4987.595616  \n",
       "528    2970000           4933.776996  \n",
       "574    2280000           5599.923866  \n",
       "4395   2970000           5003.673029  \n",
       "3915   2970000           6938.546067  \n",
       "...        ...                   ...  \n",
       "646   14510000          27864.193611  \n",
       "517   13990000          32253.118316  \n",
       "552   12950000          32585.624691  \n",
       "566   14490000          25412.160349  \n",
       "630          1          27442.255738  \n",
       "\n",
       "[177 rows x 5 columns]"
      ]
     },
     "execution_count": 86,
     "metadata": {},
     "output_type": "execute_result"
    }
   ],
   "source": [
    "df_original[df_original['locality'].str.contains('vinohrady')][df_original['totalFloorArea'] < 100][['name', 'locality', 'totalFloorArea', 'price', 'predicted_rent_price']].sort_values(by='totalFloorArea')"
   ]
  },
  {
   "cell_type": "code",
   "execution_count": null,
   "metadata": {},
   "outputs": [],
   "source": []
  }
 ],
 "metadata": {
  "kernelspec": {
   "display_name": "Python 3",
   "language": "python",
   "name": "python3"
  },
  "language_info": {
   "codemirror_mode": {
    "name": "ipython",
    "version": 3
   },
   "file_extension": ".py",
   "mimetype": "text/x-python",
   "name": "python",
   "nbconvert_exporter": "python",
   "pygments_lexer": "ipython3",
   "version": "3.6.9"
  }
 },
 "nbformat": 4,
 "nbformat_minor": 4
}
