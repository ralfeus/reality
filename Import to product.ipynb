{
 "cells": [
  {
   "cell_type": "code",
   "execution_count": 42,
   "metadata": {},
   "outputs": [],
   "source": [
    "import pymongo\n",
    "import mysql.connector\n",
    "from mysql.connector.errors import IntegrityError\n",
    "import re\n",
    "from tqdm.notebook import tqdm\n",
    "from reality_importer import BaseImporter\n",
    "from datetime import datetime\n",
    "from datetime import timedelta"
   ]
  },
  {
   "cell_type": "code",
   "execution_count": 43,
   "metadata": {},
   "outputs": [],
   "source": [
    "mysql_connection = mysql.connector.connect(\n",
    "    host='localhost', \n",
    "    user='ralfeus', \n",
    "    database='reality', \n",
    "    auth_plugin='auth_socket', \n",
    "    unix_socket='/var/run/mysqld/mysqld.sock'\n",
    ")\n",
    "mycursor = mysql_connection.cursor()"
   ]
  },
  {
   "cell_type": "code",
   "execution_count": 44,
   "metadata": {},
   "outputs": [],
   "source": [
    "mongo_client = pymongo.MongoClient()\n",
    "db = mongo_client['reality']"
   ]
  },
  {
   "cell_type": "code",
   "execution_count": 45,
   "metadata": {},
   "outputs": [],
   "source": [
    "start_date = datetime(2020, 5, 10)\n",
    "end_date = datetime(2020, 5, 10)\n",
    "start_date_filter = {'timeAdded': {'$gte': start_date}} if start_date is not None else {}\n",
    "end_date_filter = {'timeAdded': {'$lt': end_date + timedelta(days=1)}} if end_date is not None else {}"
   ]
  },
  {
   "cell_type": "code",
   "execution_count": 46,
   "metadata": {},
   "outputs": [],
   "source": [
    "def add_product(entry, commit=False):\n",
    "    mycursor.execute(\"INSERT INTO `product` (id, vendor, layout, floor_area, price,\" \\\n",
    "                     \"latitude, longitude, closest_public_transport_stop_name,\" \\\n",
    "                     \"closest_public_transport_stop_distance, offer_type, date_added) \" \\\n",
    "                     \"VALUES(%(id)s, %(vendor)s, %(layout)s, %(floor_area)s, %(price)s, \" \\\n",
    "                     \"%(latitude)s, %(longitude)s, %(closest_public_transport_stop_name)s,\" \\\n",
    "                     \"%(closest_public_transport_stop_distance)s, %(offer_type)s, %(date_added)s)\",\n",
    "                    entry)\n",
    "    if commit:\n",
    "        mysql_connection.commit()\n",
    "def commit():\n",
    "    mysql_connection.commit()\n",
    "def rollback():\n",
    "    mysql_connection.rollback()"
   ]
  },
  {
   "cell_type": "markdown",
   "metadata": {},
   "source": [
    "## SReality Sell (Prague)"
   ]
  },
  {
   "cell_type": "markdown",
   "metadata": {},
   "source": [
    "- categories:\n",
    "  - per_page': 999, # Amount of items per page\n",
    "  - category_main_cb' - property type\n",
    "      - 1 - Apartments\n",
    "      - 2 - Houses\n",
    "      - 3 - Land\n",
    "      - 4 - Commercial\n",
    "      - 5 - Other\n",
    "  - category_type_cb' - offer type\n",
    "      - 1 - Selling\n",
    "      - 2 - Rent\n",
    "  - category_sub_cb - layout\n",
    "      - 2: '1+kk',\n",
    "      - 3: '1+1',\n",
    "      - 4: '2+kk',\n",
    "      - 5: '2+1',\n",
    "      - 6: '3+kk',\n",
    "      - 7: '3+1',\n",
    "      - 8: '4+kk',\n",
    "      - 9: '4+1',\n",
    "      - 10: '5+kk',\n",
    "      - 11: '5+1',\n",
    "      - 12: '6-a-vice'\n",
    "  - 'locality_region_id': 10 # Praha"
   ]
  },
  {
   "cell_type": "code",
   "execution_count": 47,
   "metadata": {},
   "outputs": [
    {
     "data": {
      "application/vnd.jupyter.widget-view+json": {
       "model_id": "5f3965f1b5e147619cfb6028d7261d30",
       "version_major": 2,
       "version_minor": 0
      },
      "text/plain": [
       "HBox(children=(FloatProgress(value=0.0, max=5082.0), HTML(value='')))"
      ]
     },
     "metadata": {},
     "output_type": "display_data"
    },
    {
     "name": "stdout",
     "output_type": "stream",
     "text": [
      "\n"
     ]
    }
   ],
   "source": [
    "source_col = db['sreality']\n",
    "layout = {\n",
    "    2: '1+kk',\n",
    "    3: '1+1',\n",
    "    4: '2+kk',\n",
    "    5: '2+1',\n",
    "    6: '3+kk',\n",
    "    7: '3+1',\n",
    "    8: '4+kk',\n",
    "    9: '4+1',\n",
    "    10: '5+kk',\n",
    "    11: '5+1',\n",
    "    12: '6-a-vice'\n",
    "}\n",
    "filter = {'$and': [start_date_filter, end_date_filter]}\n",
    "cursor = source_col.find(filter, \n",
    "                         {\n",
    "                             'hash_id':1, \n",
    "                             'timeAdded':1, \n",
    "                             'name':1, \n",
    "                             'gps.lat':1,\n",
    "                             'gps.lon':1, \n",
    "                             'price':1,\n",
    "                             'seo':1\n",
    "                         })\n",
    "total = source_col.count_documents(filter)\n",
    "for item in tqdm(cursor, total=total):\n",
    "    closest_public_transport_stop = BaseImporter.getClosestStop(item['gps']['lat'], item['gps']['lon'])\n",
    "    entry = {\n",
    "        'id': str(item['hash_id']),\n",
    "        'date_added': item['timeAdded'].date(),\n",
    "        'vendor': 'sreality', \n",
    "        'name': item['name'],\n",
    "        'latitude': item['gps']['lat'],\n",
    "        'longitude': item['gps']['lon'],\n",
    "        'price': item['price'],\n",
    "        'layout': layout.get(item['seo']['category_sub_cb']),\n",
    "        'floor_area': re.search('\\s(\\d+)\\s', item['name']).groups()[0],\n",
    "        'offer_type': 2 ** (item['seo']['category_type_cb'] - 1),\n",
    "        'property_type': 2 ** (item['seo']['category_main_cb'] - 1),\n",
    "        'closest_public_transport_stop_name': closest_public_transport_stop['name'],\n",
    "        'closest_public_transport_stop_distance': closest_public_transport_stop['distance']\n",
    "    }\n",
    "    try:\n",
    "        add_product(entry)\n",
    "    except IntegrityError:\n",
    "        pass\n",
    "    except:\n",
    "        rollback()\n",
    "        raise\n",
    "commit()"
   ]
  },
  {
   "cell_type": "markdown",
   "metadata": {},
   "source": [
    "## SReality Rent"
   ]
  },
  {
   "cell_type": "code",
   "execution_count": 48,
   "metadata": {},
   "outputs": [
    {
     "data": {
      "application/vnd.jupyter.widget-view+json": {
       "model_id": "452de05886634194825addc01eb5a02e",
       "version_major": 2,
       "version_minor": 0
      },
      "text/plain": [
       "HBox(children=(FloatProgress(value=0.0, max=7996.0), HTML(value='')))"
      ]
     },
     "metadata": {},
     "output_type": "display_data"
    },
    {
     "name": "stdout",
     "output_type": "stream",
     "text": [
      "\n"
     ]
    }
   ],
   "source": [
    "source_col = db['sreality_rent']\n",
    "layout = {\n",
    "    2: '1+kk',\n",
    "    3: '1+1',\n",
    "    4: '2+kk',\n",
    "    5: '2+1',\n",
    "    6: '3+kk',\n",
    "    7: '3+1',\n",
    "    8: '4+kk',\n",
    "    9: '4+1',\n",
    "    10: '5+kk',\n",
    "    11: '5+1',\n",
    "    12: '6-a-vice',\n",
    "    47: 'pokoj'\n",
    "}\n",
    "filter = {'$and': [start_date_filter, end_date_filter]}\n",
    "cursor = source_col.find(filter, \n",
    "                         {\n",
    "                             'hash_id':1, \n",
    "                             'timeAdded':1, \n",
    "                             'name':1, \n",
    "                             'gps.lat':1,\n",
    "                             'gps.lon':1, \n",
    "                             'price':1,\n",
    "                             'seo':1\n",
    "                         })\n",
    "total = source_col.count_documents(filter)\n",
    "for item in tqdm(cursor, total=total):\n",
    "    closest_public_transport_stop = BaseImporter.getClosestStop(item['gps']['lat'], item['gps']['lon'])\n",
    "    entry = {\n",
    "        'id': str(item['hash_id']),\n",
    "        'date_added': item['timeAdded'].date(),\n",
    "        'vendor': 'sreality', \n",
    "        'name': item['name'],\n",
    "        'latitude': item['gps']['lat'],\n",
    "        'longitude': item['gps']['lon'],\n",
    "        'price': item['price'],\n",
    "        'layout': layout.get(item['seo']['category_sub_cb']),\n",
    "        'floor_area': re.search('\\s(\\d+)\\D', item['name']).groups()[0],\n",
    "        'offer_type': 2 ** (item['seo']['category_type_cb'] - 1),\n",
    "        'property_type': 2 ** (item['seo']['category_main_cb'] - 1),\n",
    "        'closest_public_transport_stop_name': closest_public_transport_stop['name'],\n",
    "        'closest_public_transport_stop_distance': closest_public_transport_stop['distance']\n",
    "    }\n",
    "    try:\n",
    "        add_product(entry)\n",
    "    except IntegrityError:\n",
    "#         print(f'DUP: {entry[\"id\"]}-{entry[\"date_added\"]}')\n",
    "        pass\n",
    "    except:\n",
    "        rollback()\n",
    "        raise\n",
    "commit()"
   ]
  },
  {
   "cell_type": "code",
   "execution_count": null,
   "metadata": {},
   "outputs": [],
   "source": []
  },
  {
   "cell_type": "markdown",
   "metadata": {},
   "source": [
    "## SReality All"
   ]
  },
  {
   "cell_type": "raw",
   "metadata": {
    "jupyter": {
     "source_hidden": true
    }
   },
   "source": [
    "source_col = db['sreality_all']\n",
    "layout = {\n",
    "    2: '1+kk',\n",
    "    3: '1+1',\n",
    "    4: '2+kk',\n",
    "    5: '2+1',\n",
    "    6: '3+kk',\n",
    "    7: '3+1',\n",
    "    8: '4+kk',\n",
    "    9: '4+1',\n",
    "    10: '5+kk',\n",
    "    11: '5+1',\n",
    "    12: '6-a-vice',\n",
    "    47: 'pokoj'\n",
    "}\n",
    "filter = {'$and': [start_date_filter, end_date_filter]}\n",
    "cursor = source_col.find(filter, \n",
    "                         {\n",
    "                             'hash_id':1, \n",
    "                             'timeAdded':1, \n",
    "                             'name':1, \n",
    "                             'gps.lat':1,\n",
    "                             'gps.lon':1, \n",
    "                             'price':1,\n",
    "                             'seo':1\n",
    "                         })\n",
    "total = source_col.count_documents(filter)\n",
    "for item in tqdm(cursor, total=total):\n",
    "    closest_public_transport_stop = BaseImporter.getClosestStop(item['gps']['lat'], item['gps']['lon'])\n",
    "    entry = {\n",
    "        'id': str(item['hash_id']),\n",
    "        'date_added': item['timeAdded'].date(),\n",
    "        'vendor': 'sreality', \n",
    "        'name': item['name'],\n",
    "        'latitude': item['gps']['lat'],\n",
    "        'longitude': item['gps']['lon'],\n",
    "        'price': str(item['price']),\n",
    "        'layout': layout.get(item['seo']['category_sub_cb']),\n",
    "        'floor_area': re.search('\\s(\\d+)\\D', item['name']).groups()[0],\n",
    "        'offer_type': 2 ** (item['seo']['category_type_cb'] - 1),\n",
    "        'property_type': 2 ** (item['seo']['category_main_cb'] - 1),\n",
    "        'closest_public_transport_stop_name': closest_public_transport_stop['name'],\n",
    "        'closest_public_transport_stop_distance': closest_public_transport_stop['distance']\n",
    "    }\n",
    "    try:\n",
    "        add_product(entry)\n",
    "    except IntegrityError:\n",
    "        pass\n",
    "commit()"
   ]
  },
  {
   "cell_type": "markdown",
   "metadata": {},
   "source": [
    "## Bez realitky"
   ]
  },
  {
   "cell_type": "code",
   "execution_count": 37,
   "metadata": {},
   "outputs": [
    {
     "data": {
      "application/vnd.jupyter.widget-view+json": {
       "model_id": "ad3d82d8c36d4902b7e7cb2b1308b395",
       "version_major": 2,
       "version_minor": 0
      },
      "text/plain": [
       "HBox(children=(FloatProgress(value=0.0, max=17614.0), HTML(value='')))"
      ]
     },
     "metadata": {},
     "output_type": "display_data"
    },
    {
     "name": "stdout",
     "output_type": "stream",
     "text": [
      "\n"
     ]
    }
   ],
   "source": [
    "source_col = db['bezrealitky']\n",
    "offer_type = {\n",
    "    'spolubydleni': 0,\n",
    "    'prodej': 1,\n",
    "    'pronajem': 2\n",
    "}\n",
    "property_type = {\n",
    "    'byt': 1,\n",
    "    'dum': 2,\n",
    "    'pozemek': 3,\n",
    "    'kancelar': 4,\n",
    "    'garaz': 5,\n",
    "    'nebytovy-prostor': 5,\n",
    "    'rekreacni-objekt': 5\n",
    "}\n",
    "filter = {'$and': [start_date_filter, end_date_filter]}\n",
    "cursor = source_col.find(filter, \n",
    "                         {\n",
    "                             'id':1, \n",
    "                             'timeAdded':1, \n",
    "                             'advertEstateOffer':1\n",
    "                         })\n",
    "total = source_col.count_documents(filter)\n",
    "for item in tqdm(cursor, total=total):\n",
    "    gps = eval(item['advertEstateOffer'][0]['gps'])\n",
    "    lat, lon = float(gps['lat']), float(gps['lng'])\n",
    "    if (BaseImporter.prague_boundaries['south'] <= lat <= BaseImporter.prague_boundaries['north'] and\n",
    "        BaseImporter.prague_boundaries['west'] <= lon <= BaseImporter.prague_boundaries['east'] and\n",
    "        item['advertEstateOffer'][0]['keyEstateType'] == 'byt'):\n",
    "        closest_public_transport_stop = BaseImporter.getClosestStop(lat, lon)\n",
    "        entry = {\n",
    "            'id': str(item['id']),\n",
    "            'date_added': item['timeAdded'].date(),\n",
    "            'vendor': 'Bez realitky', \n",
    "            'name': '',\n",
    "            'latitude': lat,\n",
    "            'longitude': lon,\n",
    "            'price': str(item['advertEstateOffer'][0]['price']),\n",
    "            'layout': item['advertEstateOffer'][0]['keyDisposition'].replace('-', '+'),\n",
    "            'floor_area': item['advertEstateOffer'][0]['surface'],\n",
    "            'offer_type': offer_type[item['advertEstateOffer'][0]['keyOfferType']],\n",
    "            'property_type': 2 ** (property_type[item['advertEstateOffer'][0]['keyEstateType']] - 1),\n",
    "            'closest_public_transport_stop_name': closest_public_transport_stop['name'],\n",
    "            'closest_public_transport_stop_distance': closest_public_transport_stop['distance']\n",
    "        }\n",
    "        try:\n",
    "            add_product(entry)\n",
    "        except IntegrityError:\n",
    "            pass\n",
    "        except:\n",
    "            mysql_connection.rollback()\n",
    "            raise\n",
    "commit()"
   ]
  },
  {
   "cell_type": "markdown",
   "metadata": {},
   "source": [
    "## Central Group"
   ]
  },
  {
   "cell_type": "code",
   "execution_count": 49,
   "metadata": {},
   "outputs": [
    {
     "data": {
      "application/vnd.jupyter.widget-view+json": {
       "model_id": "1de49faa0e3345a1b3da6e8de4898355",
       "version_major": 2,
       "version_minor": 0
      },
      "text/plain": [
       "HBox(children=(FloatProgress(value=0.0, max=477.0), HTML(value='')))"
      ]
     },
     "metadata": {},
     "output_type": "display_data"
    },
    {
     "name": "stdout",
     "output_type": "stream",
     "text": [
      "\n"
     ]
    }
   ],
   "source": [
    "source_col = db['centralGroup']\n",
    "filter = {'$and': [start_date_filter, end_date_filter]}\n",
    "cursor = source_col.find(filter, \n",
    "                         {\n",
    "                             'catalogNumber':1, \n",
    "                             'timeAdded':1, \n",
    "                             'totalPriceWithVAT':1,\n",
    "                             'layoutLabel':1,\n",
    "                             'totalFloorArea':1\n",
    "                         })\n",
    "total = source_col.count_documents(filter)\n",
    "for item in tqdm(cursor, total=total):\n",
    "    entry = {\n",
    "        'id': item['catalogNumber'],\n",
    "        'date_added': item['timeAdded'].date(),\n",
    "        'vendor': 'Central Group', \n",
    "        'name': '',\n",
    "        'latitude': 0,\n",
    "        'longitude': 0,\n",
    "        'price': item['totalPriceWithVAT'],\n",
    "        'layout': item['layoutLabel'],\n",
    "        'floor_area': item['totalFloorArea'],\n",
    "        'offer_type': 1,\n",
    "        'property_type': 1,\n",
    "        'closest_public_transport_stop_name': '',\n",
    "        'closest_public_transport_stop_distance': 0\n",
    "    }\n",
    "    try:\n",
    "        add_product(entry)\n",
    "    except IntegrityError:\n",
    "        pass\n",
    "    except:\n",
    "        rollback()\n",
    "        raise\n",
    "commit()"
   ]
  },
  {
   "cell_type": "markdown",
   "metadata": {},
   "source": [
    "## Ekospol"
   ]
  },
  {
   "cell_type": "code",
   "execution_count": 39,
   "metadata": {},
   "outputs": [
    {
     "data": {
      "application/vnd.jupyter.widget-view+json": {
       "model_id": "dd00ac77ae61462b8e646f13950e3687",
       "version_major": 2,
       "version_minor": 0
      },
      "text/plain": [
       "HBox(children=(FloatProgress(value=0.0, max=40.0), HTML(value='')))"
      ]
     },
     "metadata": {},
     "output_type": "display_data"
    },
    {
     "name": "stdout",
     "output_type": "stream",
     "text": [
      "\n"
     ]
    }
   ],
   "source": [
    "source_col = db['ekospol']\n",
    "filter = {'$and': [start_date_filter, end_date_filter]}\n",
    "cursor = source_col.find(filter, \n",
    "                         {\n",
    "                             'identification':1, \n",
    "                             'timeAdded':1, \n",
    "                             'priceWithVAT':1,\n",
    "                             'layout':1,\n",
    "                             'totalFloorArea':1\n",
    "                         })\n",
    "total = source_col.count_documents(filter)\n",
    "for item in tqdm(cursor, total=total):\n",
    "    entry = {\n",
    "        'id': item['identification'],\n",
    "        'date_added': item['timeAdded'].date(),\n",
    "        'vendor': 'Ekospol', \n",
    "        'name': '',\n",
    "        'latitude': 0,\n",
    "        'longitude': 0,\n",
    "        'price': item['priceWithVAT'],\n",
    "        'layout': item['layout'],\n",
    "        'floor_area': item['totalFloorArea'],\n",
    "        'offer_type': 1,\n",
    "        'property_type': 1,\n",
    "        'closest_public_transport_stop_name': '',\n",
    "        'closest_public_transport_stop_distance': 0\n",
    "    }\n",
    "    try:\n",
    "        add_product(entry)\n",
    "    except IntegrityError:\n",
    "        pass\n",
    "    except:\n",
    "        rollback()\n",
    "        raise\n",
    "commit()"
   ]
  },
  {
   "cell_type": "markdown",
   "metadata": {},
   "source": [
    "## Finep"
   ]
  },
  {
   "cell_type": "code",
   "execution_count": 40,
   "metadata": {},
   "outputs": [
    {
     "data": {
      "application/vnd.jupyter.widget-view+json": {
       "model_id": "dac60765a3ac4a5aaf1277ab8bd761cc",
       "version_major": 2,
       "version_minor": 0
      },
      "text/plain": [
       "HBox(children=(FloatProgress(value=0.0, max=421.0), HTML(value='')))"
      ]
     },
     "metadata": {},
     "output_type": "display_data"
    },
    {
     "name": "stdout",
     "output_type": "stream",
     "text": [
      "\n"
     ]
    }
   ],
   "source": [
    "source_col = db['finep']\n",
    "filter = {'$and': [start_date_filter, end_date_filter]}\n",
    "cursor = source_col.find(filter, \n",
    "                         {\n",
    "                             'identification':1, \n",
    "                             'timeAdded':1, \n",
    "                             'priceWithVAT':1,\n",
    "                             'layout':1,\n",
    "                             'totalFloorArea':1\n",
    "                         })\n",
    "total = source_col.count_documents(filter)\n",
    "for item in tqdm(cursor, total=total):\n",
    "    entry = {\n",
    "        'id': item['identification'],\n",
    "        'date_added': item['timeAdded'].date(),\n",
    "        'vendor': 'Finep', \n",
    "        'name': '',\n",
    "        'latitude': 0,\n",
    "        'longitude': 0,\n",
    "        'price': item['priceWithVAT'],\n",
    "        'layout': item['layout'],\n",
    "        'floor_area': item['totalFloorArea'],\n",
    "        'offer_type': 1,\n",
    "        'property_type': 1,\n",
    "        'closest_public_transport_stop_name': '',\n",
    "        'closest_public_transport_stop_distance': 0\n",
    "    }\n",
    "    try:\n",
    "        add_product(entry)\n",
    "    except IntegrityError:\n",
    "        pass\n",
    "    except:\n",
    "        rollback()\n",
    "        raise\n",
    "commit()"
   ]
  },
  {
   "cell_type": "markdown",
   "metadata": {},
   "source": [
    "## Skanska"
   ]
  },
  {
   "cell_type": "code",
   "execution_count": 41,
   "metadata": {},
   "outputs": [
    {
     "data": {
      "application/vnd.jupyter.widget-view+json": {
       "model_id": "82e8818409d5483b8c6fcd9765a39c28",
       "version_major": 2,
       "version_minor": 0
      },
      "text/plain": [
       "HBox(children=(FloatProgress(value=0.0, max=316.0), HTML(value='')))"
      ]
     },
     "metadata": {},
     "output_type": "display_data"
    },
    {
     "name": "stdout",
     "output_type": "stream",
     "text": [
      "\n"
     ]
    }
   ],
   "source": [
    "source_col = db['skanska']\n",
    "filter = {'$and': [start_date_filter, end_date_filter]}\n",
    "cursor = source_col.find(filter, \n",
    "                         {\n",
    "                             'identification':1, \n",
    "                             'timeAdded':1, \n",
    "                             'priceWithVAT':1,\n",
    "                             'layout':1,\n",
    "                             'totalFloorArea':1\n",
    "                         })\n",
    "total = source_col.count_documents(filter)\n",
    "for item in tqdm(cursor, total=total):\n",
    "    entry = {\n",
    "        'id': item['identification'],\n",
    "        'date_added': item['timeAdded'].date(),\n",
    "        'vendor': 'Skanska', \n",
    "        'name': '',\n",
    "        'latitude': 0,\n",
    "        'longitude': 0,\n",
    "        'price': item['priceWithVAT'],\n",
    "        'layout': item['layout'],\n",
    "        'floor_area': item['totalFloorArea'],\n",
    "        'offer_type': 1,\n",
    "        'property_type': 1,\n",
    "        'closest_public_transport_stop_name': '',\n",
    "        'closest_public_transport_stop_distance': 0\n",
    "    }\n",
    "    try:\n",
    "        add_product(entry)\n",
    "    except IntegrityError:\n",
    "        pass\n",
    "    except:\n",
    "        rollback()\n",
    "        raise\n",
    "commit()"
   ]
  },
  {
   "cell_type": "code",
   "execution_count": null,
   "metadata": {},
   "outputs": [],
   "source": []
  }
 ],
 "metadata": {
  "kernelspec": {
   "display_name": "Python 3",
   "language": "python",
   "name": "python3"
  },
  "language_info": {
   "codemirror_mode": {
    "name": "ipython",
    "version": 3
   },
   "file_extension": ".py",
   "mimetype": "text/x-python",
   "name": "python",
   "nbconvert_exporter": "python",
   "pygments_lexer": "ipython3",
   "version": "3.6.9"
  }
 },
 "nbformat": 4,
 "nbformat_minor": 4
}
